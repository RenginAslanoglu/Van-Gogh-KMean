{
 "cells": [
  {
   "cell_type": "code",
   "execution_count": 1,
   "metadata": {},
   "outputs": [],
   "source": [
    "from sklearn.cluster import KMeans\n",
    "import matplotlib.pyplot as plt\n",
    "import argparse\n",
    "import utils\n",
    "import cv2\n",
    "import os"
   ]
  },
  {
   "cell_type": "code",
   "execution_count": 2,
   "metadata": {},
   "outputs": [],
   "source": [
    "# load the image and convert it from BGR to RGB so that\n",
    "# we can dispaly it with matplotlib\n",
    "image_list = os.listdir(\"images/\")\n",
    "count = 0"
   ]
  },
  {
   "cell_type": "code",
   "execution_count": null,
   "metadata": {},
   "outputs": [
    {
     "name": "stdout",
     "output_type": "stream",
     "text": [
      "KMeans(algorithm='full', copy_x=True, init='k-means++', max_iter=300,\n",
      "    n_clusters=1000, n_init=10, n_jobs=1, precompute_distances='auto',\n",
      "    random_state=None, tol=0.0001, verbose=0)\n"
     ]
    }
   ],
   "source": [
    "for images in image_list:\n",
    "    image = cv2.imread(\"images/\"+images)\n",
    "    image = cv2.cvtColor(image, cv2.COLOR_BGR2RGB)\n",
    "    # show our image\n",
    "    plt.figure()\n",
    "    plt.axis(\"off\")\n",
    "    #plt.imshow(image)\n",
    "    # reshape the image to be a list of pixels\n",
    "    image = image.reshape((image.shape[0] * image.shape[1], 3))\n",
    "    # cluster the pixel intensities\n",
    "    clt = KMeans(n_clusters = 1000,n_jobs=1,algorithm=\"full\")\n",
    "    print(clt)\n",
    "    clt.fit(image)\n",
    "    # build a histogram of clusters and then create a figure\n",
    "    # representing the number of pixels labeled to each color\n",
    "    hist = utils.centroid_histogram(clt)\n",
    "    print(hist)\n",
    "    bar = utils.plot_colors(hist, clt.cluster_centers_)\n",
    "    output = open(os.path.splitext(images)[0]+\"_output.csv\",'w')\n",
    "    for (percent, color) in zip(hist, clt.cluster_centers_):\n",
    "        print(percent)\n",
    "        print(color.astype(\"uint8\").tolist())\n",
    "        RGB = ','.join(str(i) for i in color.astype(\"uint8\").tolist())\n",
    "        output.write(\"Oran: \"+str(percent)+\" \"+\"RGB: \"+RGB+\"\\n\")\n",
    "    # show our color bart\n",
    "    output.close()\n",
    "    plt.figure()\n",
    "    plt.axis(\"off\")\n",
    "    plt.imshow(bar)\n",
    "    plt.show()"
   ]
  }
 ],
 "metadata": {
  "kernelspec": {
   "display_name": "Python 3",
   "language": "python",
   "name": "python3"
  },
  "language_info": {
   "codemirror_mode": {
    "name": "ipython",
    "version": 3
   },
   "file_extension": ".py",
   "mimetype": "text/x-python",
   "name": "python",
   "nbconvert_exporter": "python",
   "pygments_lexer": "ipython3",
   "version": "3.5.2"
  }
 },
 "nbformat": 4,
 "nbformat_minor": 2
}
